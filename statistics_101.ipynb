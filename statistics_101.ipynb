{
 "cells": [
  {
   "cell_type": "markdown",
   "id": "a68a11fc",
   "metadata": {},
   "source": [
    "# Statistics 101"
   ]
  },
  {
   "cell_type": "markdown",
   "id": "17ddd526",
   "metadata": {},
   "source": [
    "## Data Source\n",
    "\n",
    "Data is taken from the study [\"Predictors of severe or lethal COVID-19, including Angiotensin Converting Enzyme inhibitors and Angiotensin II Receptor Blockers, in a sample of infected Italian citizens\"]( https://journals.plos.org/plosone/article?id=10.1371/journal.pone.0235248)\n",
    "\n",
    "The study's aim is to assess independent predictors of severe COVID-19. Special focus on provision of treatment provided during high blood pressure (ACE and ARB). Signigicant predicators were: age, male, diabetes, cardiovascular diseases (CVD), and chronic obstructive pulmonary disease (COPD). The conclusion of the study: cardiovascular treatment should be continued as normal in case of infection."
   ]
  },
  {
   "cell_type": "code",
   "execution_count": 23,
   "id": "b1c95b61",
   "metadata": {},
   "outputs": [
    {
     "data": {
      "text/html": [
       "<div>\n",
       "<style scoped>\n",
       "    .dataframe tbody tr th:only-of-type {\n",
       "        vertical-align: middle;\n",
       "    }\n",
       "\n",
       "    .dataframe tbody tr th {\n",
       "        vertical-align: top;\n",
       "    }\n",
       "\n",
       "    .dataframe thead th {\n",
       "        text-align: right;\n",
       "    }\n",
       "</style>\n",
       "<table border=\"1\" class=\"dataframe\">\n",
       "  <thead>\n",
       "    <tr style=\"text-align: right;\">\n",
       "      <th></th>\n",
       "      <th>id</th>\n",
       "      <th>age</th>\n",
       "      <th>sex</th>\n",
       "      <th>diabetes</th>\n",
       "      <th>hypertension</th>\n",
       "      <th>cvd</th>\n",
       "      <th>copd</th>\n",
       "      <th>cancer</th>\n",
       "      <th>renal</th>\n",
       "      <th>ace</th>\n",
       "      <th>...</th>\n",
       "      <th>severe</th>\n",
       "      <th>death</th>\n",
       "      <th>ageclass</th>\n",
       "      <th>ageclass1</th>\n",
       "      <th>ageclass2</th>\n",
       "      <th>ageclass3</th>\n",
       "      <th>ageclass4</th>\n",
       "      <th>ageclass5</th>\n",
       "      <th>ageclass6</th>\n",
       "      <th>ageclass7</th>\n",
       "    </tr>\n",
       "  </thead>\n",
       "  <tbody>\n",
       "    <tr>\n",
       "      <th>0</th>\n",
       "      <td>1</td>\n",
       "      <td>64.194389</td>\n",
       "      <td>0</td>\n",
       "      <td>0</td>\n",
       "      <td>0</td>\n",
       "      <td>0</td>\n",
       "      <td>0</td>\n",
       "      <td>0</td>\n",
       "      <td>0</td>\n",
       "      <td>0</td>\n",
       "      <td>...</td>\n",
       "      <td>0</td>\n",
       "      <td>0</td>\n",
       "      <td>69.989998</td>\n",
       "      <td>0.0</td>\n",
       "      <td>0.0</td>\n",
       "      <td>0.0</td>\n",
       "      <td>0.0</td>\n",
       "      <td>1.0</td>\n",
       "      <td>0.0</td>\n",
       "      <td>0.0</td>\n",
       "    </tr>\n",
       "    <tr>\n",
       "      <th>1</th>\n",
       "      <td>2</td>\n",
       "      <td>76.917183</td>\n",
       "      <td>1</td>\n",
       "      <td>0</td>\n",
       "      <td>1</td>\n",
       "      <td>1</td>\n",
       "      <td>0</td>\n",
       "      <td>0</td>\n",
       "      <td>0</td>\n",
       "      <td>0</td>\n",
       "      <td>...</td>\n",
       "      <td>1</td>\n",
       "      <td>1</td>\n",
       "      <td>79.989998</td>\n",
       "      <td>0.0</td>\n",
       "      <td>0.0</td>\n",
       "      <td>0.0</td>\n",
       "      <td>0.0</td>\n",
       "      <td>0.0</td>\n",
       "      <td>1.0</td>\n",
       "      <td>0.0</td>\n",
       "    </tr>\n",
       "    <tr>\n",
       "      <th>2</th>\n",
       "      <td>3</td>\n",
       "      <td>23.460644</td>\n",
       "      <td>0</td>\n",
       "      <td>0</td>\n",
       "      <td>0</td>\n",
       "      <td>0</td>\n",
       "      <td>0</td>\n",
       "      <td>0</td>\n",
       "      <td>0</td>\n",
       "      <td>0</td>\n",
       "      <td>...</td>\n",
       "      <td>0</td>\n",
       "      <td>0</td>\n",
       "      <td>39.990002</td>\n",
       "      <td>0.0</td>\n",
       "      <td>1.0</td>\n",
       "      <td>0.0</td>\n",
       "      <td>0.0</td>\n",
       "      <td>0.0</td>\n",
       "      <td>0.0</td>\n",
       "      <td>0.0</td>\n",
       "    </tr>\n",
       "    <tr>\n",
       "      <th>3</th>\n",
       "      <td>4</td>\n",
       "      <td>30.447639</td>\n",
       "      <td>0</td>\n",
       "      <td>0</td>\n",
       "      <td>0</td>\n",
       "      <td>0</td>\n",
       "      <td>0</td>\n",
       "      <td>0</td>\n",
       "      <td>0</td>\n",
       "      <td>0</td>\n",
       "      <td>...</td>\n",
       "      <td>0</td>\n",
       "      <td>0</td>\n",
       "      <td>39.990002</td>\n",
       "      <td>0.0</td>\n",
       "      <td>1.0</td>\n",
       "      <td>0.0</td>\n",
       "      <td>0.0</td>\n",
       "      <td>0.0</td>\n",
       "      <td>0.0</td>\n",
       "      <td>0.0</td>\n",
       "    </tr>\n",
       "    <tr>\n",
       "      <th>4</th>\n",
       "      <td>5</td>\n",
       "      <td>55.299110</td>\n",
       "      <td>1</td>\n",
       "      <td>0</td>\n",
       "      <td>0</td>\n",
       "      <td>0</td>\n",
       "      <td>0</td>\n",
       "      <td>0</td>\n",
       "      <td>0</td>\n",
       "      <td>0</td>\n",
       "      <td>...</td>\n",
       "      <td>1</td>\n",
       "      <td>0</td>\n",
       "      <td>59.990002</td>\n",
       "      <td>0.0</td>\n",
       "      <td>0.0</td>\n",
       "      <td>0.0</td>\n",
       "      <td>1.0</td>\n",
       "      <td>0.0</td>\n",
       "      <td>0.0</td>\n",
       "      <td>0.0</td>\n",
       "    </tr>\n",
       "    <tr>\n",
       "      <th>...</th>\n",
       "      <td>...</td>\n",
       "      <td>...</td>\n",
       "      <td>...</td>\n",
       "      <td>...</td>\n",
       "      <td>...</td>\n",
       "      <td>...</td>\n",
       "      <td>...</td>\n",
       "      <td>...</td>\n",
       "      <td>...</td>\n",
       "      <td>...</td>\n",
       "      <td>...</td>\n",
       "      <td>...</td>\n",
       "      <td>...</td>\n",
       "      <td>...</td>\n",
       "      <td>...</td>\n",
       "      <td>...</td>\n",
       "      <td>...</td>\n",
       "      <td>...</td>\n",
       "      <td>...</td>\n",
       "      <td>...</td>\n",
       "      <td>...</td>\n",
       "    </tr>\n",
       "    <tr>\n",
       "      <th>1598</th>\n",
       "      <td>1599</td>\n",
       "      <td>53.000000</td>\n",
       "      <td>1</td>\n",
       "      <td>0</td>\n",
       "      <td>0</td>\n",
       "      <td>0</td>\n",
       "      <td>0</td>\n",
       "      <td>0</td>\n",
       "      <td>0</td>\n",
       "      <td>0</td>\n",
       "      <td>...</td>\n",
       "      <td>1</td>\n",
       "      <td>0</td>\n",
       "      <td>59.990002</td>\n",
       "      <td>0.0</td>\n",
       "      <td>0.0</td>\n",
       "      <td>0.0</td>\n",
       "      <td>1.0</td>\n",
       "      <td>0.0</td>\n",
       "      <td>0.0</td>\n",
       "      <td>0.0</td>\n",
       "    </tr>\n",
       "    <tr>\n",
       "      <th>1599</th>\n",
       "      <td>1600</td>\n",
       "      <td>45.000000</td>\n",
       "      <td>0</td>\n",
       "      <td>0</td>\n",
       "      <td>0</td>\n",
       "      <td>0</td>\n",
       "      <td>0</td>\n",
       "      <td>0</td>\n",
       "      <td>0</td>\n",
       "      <td>0</td>\n",
       "      <td>...</td>\n",
       "      <td>0</td>\n",
       "      <td>0</td>\n",
       "      <td>49.990002</td>\n",
       "      <td>0.0</td>\n",
       "      <td>0.0</td>\n",
       "      <td>1.0</td>\n",
       "      <td>0.0</td>\n",
       "      <td>0.0</td>\n",
       "      <td>0.0</td>\n",
       "      <td>0.0</td>\n",
       "    </tr>\n",
       "    <tr>\n",
       "      <th>1600</th>\n",
       "      <td>1601</td>\n",
       "      <td>56.000000</td>\n",
       "      <td>1</td>\n",
       "      <td>0</td>\n",
       "      <td>0</td>\n",
       "      <td>0</td>\n",
       "      <td>0</td>\n",
       "      <td>0</td>\n",
       "      <td>0</td>\n",
       "      <td>0</td>\n",
       "      <td>...</td>\n",
       "      <td>0</td>\n",
       "      <td>0</td>\n",
       "      <td>59.990002</td>\n",
       "      <td>0.0</td>\n",
       "      <td>0.0</td>\n",
       "      <td>0.0</td>\n",
       "      <td>1.0</td>\n",
       "      <td>0.0</td>\n",
       "      <td>0.0</td>\n",
       "      <td>0.0</td>\n",
       "    </tr>\n",
       "    <tr>\n",
       "      <th>1601</th>\n",
       "      <td>1602</td>\n",
       "      <td>46.000000</td>\n",
       "      <td>1</td>\n",
       "      <td>0</td>\n",
       "      <td>0</td>\n",
       "      <td>0</td>\n",
       "      <td>0</td>\n",
       "      <td>0</td>\n",
       "      <td>0</td>\n",
       "      <td>0</td>\n",
       "      <td>...</td>\n",
       "      <td>0</td>\n",
       "      <td>0</td>\n",
       "      <td>49.990002</td>\n",
       "      <td>0.0</td>\n",
       "      <td>0.0</td>\n",
       "      <td>1.0</td>\n",
       "      <td>0.0</td>\n",
       "      <td>0.0</td>\n",
       "      <td>0.0</td>\n",
       "      <td>0.0</td>\n",
       "    </tr>\n",
       "    <tr>\n",
       "      <th>1602</th>\n",
       "      <td>1603</td>\n",
       "      <td>56.000000</td>\n",
       "      <td>1</td>\n",
       "      <td>0</td>\n",
       "      <td>0</td>\n",
       "      <td>0</td>\n",
       "      <td>0</td>\n",
       "      <td>0</td>\n",
       "      <td>0</td>\n",
       "      <td>0</td>\n",
       "      <td>...</td>\n",
       "      <td>0</td>\n",
       "      <td>0</td>\n",
       "      <td>59.990002</td>\n",
       "      <td>0.0</td>\n",
       "      <td>0.0</td>\n",
       "      <td>0.0</td>\n",
       "      <td>1.0</td>\n",
       "      <td>0.0</td>\n",
       "      <td>0.0</td>\n",
       "      <td>0.0</td>\n",
       "    </tr>\n",
       "  </tbody>\n",
       "</table>\n",
       "<p>1603 rows × 24 columns</p>\n",
       "</div>"
      ],
      "text/plain": [
       "        id        age  sex  diabetes  hypertension  cvd  copd  cancer  renal  \\\n",
       "0        1  64.194389    0         0             0    0     0       0      0   \n",
       "1        2  76.917183    1         0             1    1     0       0      0   \n",
       "2        3  23.460644    0         0             0    0     0       0      0   \n",
       "3        4  30.447639    0         0             0    0     0       0      0   \n",
       "4        5  55.299110    1         0             0    0     0       0      0   \n",
       "...    ...        ...  ...       ...           ...  ...   ...     ...    ...   \n",
       "1598  1599  53.000000    1         0             0    0     0       0      0   \n",
       "1599  1600  45.000000    0         0             0    0     0       0      0   \n",
       "1600  1601  56.000000    1         0             0    0     0       0      0   \n",
       "1601  1602  46.000000    1         0             0    0     0       0      0   \n",
       "1602  1603  56.000000    1         0             0    0     0       0      0   \n",
       "\n",
       "      ace  ...  severe  death   ageclass  ageclass1  ageclass2  ageclass3  \\\n",
       "0       0  ...       0      0  69.989998        0.0        0.0        0.0   \n",
       "1       0  ...       1      1  79.989998        0.0        0.0        0.0   \n",
       "2       0  ...       0      0  39.990002        0.0        1.0        0.0   \n",
       "3       0  ...       0      0  39.990002        0.0        1.0        0.0   \n",
       "4       0  ...       1      0  59.990002        0.0        0.0        0.0   \n",
       "...   ...  ...     ...    ...        ...        ...        ...        ...   \n",
       "1598    0  ...       1      0  59.990002        0.0        0.0        0.0   \n",
       "1599    0  ...       0      0  49.990002        0.0        0.0        1.0   \n",
       "1600    0  ...       0      0  59.990002        0.0        0.0        0.0   \n",
       "1601    0  ...       0      0  49.990002        0.0        0.0        1.0   \n",
       "1602    0  ...       0      0  59.990002        0.0        0.0        0.0   \n",
       "\n",
       "      ageclass4  ageclass5  ageclass6  ageclass7  \n",
       "0           0.0        1.0        0.0        0.0  \n",
       "1           0.0        0.0        1.0        0.0  \n",
       "2           0.0        0.0        0.0        0.0  \n",
       "3           0.0        0.0        0.0        0.0  \n",
       "4           1.0        0.0        0.0        0.0  \n",
       "...         ...        ...        ...        ...  \n",
       "1598        1.0        0.0        0.0        0.0  \n",
       "1599        0.0        0.0        0.0        0.0  \n",
       "1600        1.0        0.0        0.0        0.0  \n",
       "1601        0.0        0.0        0.0        0.0  \n",
       "1602        1.0        0.0        0.0        0.0  \n",
       "\n",
       "[1603 rows x 24 columns]"
      ]
     },
     "execution_count": 23,
     "metadata": {},
     "output_type": "execute_result"
    }
   ],
   "source": [
    "import pandas as pd \n",
    "import matplotlib.pyplot as plt\n",
    "import statistics as stats\n",
    "import numpy as np\n",
    "import scipy.stats as st\n",
    "import math\n",
    "import statsmodels.stats.weightstats as stm\n",
    "\n",
    "# Read csv into Dataframe\n",
    "df = pd.read_excel(\"journal.pone.0235248.s001.xlsx\")\n",
    "\n",
    "df"
   ]
  },
  {
   "cell_type": "markdown",
   "id": "0e46bc7d",
   "metadata": {},
   "source": [
    "## Descriptive Statistics\n",
    "\n",
    "First, the practice of data science begins with describing and understanding a given dataset. In descriptive statistics, we're interested in 2 aspects of data:\n",
    "* its central tendency (mean, median, mode)\n",
    "    * If data is normally distributed, we look at mean and 95%CI\n",
    "    * if data is not normally distributed, we look at median and IQR\n",
    "* its variability or spread (variance, standard deviation)"
   ]
  },
  {
   "cell_type": "markdown",
   "id": "9b7c252d",
   "metadata": {},
   "source": [
    "### Identify variables \n",
    "\n",
    "age, ageclass: continuous variables\n",
    "others: categorical variables"
   ]
  },
  {
   "cell_type": "markdown",
   "id": "bf1cdd6f",
   "metadata": {},
   "source": [
    "### Create summary statistics of age"
   ]
  },
  {
   "cell_type": "code",
   "execution_count": 24,
   "id": "94547562",
   "metadata": {},
   "outputs": [],
   "source": [
    "# Count number of NaN Values\n",
    "df[\"age\"].isnull().sum()\n",
    "\n",
    "# Drop NaN values\n",
    "age = df[\"age\"].dropna()\n",
    "age = age.to_numpy()"
   ]
  },
  {
   "cell_type": "code",
   "execution_count": 25,
   "id": "1aef48d9",
   "metadata": {},
   "outputs": [
    {
     "name": "stdout",
     "output_type": "stream",
     "text": [
      "Mean: 58.02. Median: 58.00. Mode: 55.00. Sample variance: 438.12. Sample standard deviation: 20.93.\n"
     ]
    }
   ],
   "source": [
    "mean = stats.mean(age)\n",
    "median = stats.median(age)\n",
    "mode = stats.mode(age)\n",
    "s_square = age.var(ddof=1)\n",
    "s = age.std(ddof=1)\n",
    "\n",
    "print(\"Mean: %.2f. Median: %.2f. Mode: %.2f. Sample variance: %.2f. Sample standard deviation: %.2f.\" % (mean, median, mode, s_square, s))"
   ]
  },
  {
   "cell_type": "code",
   "execution_count": 26,
   "id": "73462069",
   "metadata": {},
   "outputs": [
    {
     "data": {
      "image/png": "[encoded data removed]",
      "text/plain": [
       "<Figure size 432x288 with 1 Axes>"
      ]
     },
     "metadata": {
      "needs_background": "light"
     },
     "output_type": "display_data"
    }
   ],
   "source": [
    "# Plot histogram and comment on the skewness\n",
    "plt.hist(age, color='blue', edgecolor='black', bins=32)\n",
    "plt.title(\"Age distribution\")\n",
    "plt.xlabel(\"years\")\n",
    "plt.ylabel(\"frequency\")\n",
    "plt.show()"
   ]
  },
  {
   "cell_type": "markdown",
   "id": "cce3a628",
   "metadata": {},
   "source": [
    "### Calculate confidence interval"
   ]
  },
  {
   "cell_type": "code",
   "execution_count": 27,
   "id": "e16ea50a",
   "metadata": {},
   "outputs": [
    {
     "name": "stdout",
     "output_type": "stream",
     "text": [
      "C.I. (t*): 56.99 to 59.04. Interval size: 2.05.\n"
     ]
    }
   ],
   "source": [
    "# sample size\n",
    "n = len(age)\n",
    "\n",
    "# standard error\n",
    "std_err = s / math.sqrt(n)\n",
    "\n",
    "# confidence level, significance level, and degrees of freedom\n",
    "conf_lvl = 0.95\n",
    "sig_lvl = 1 - conf_lvl\n",
    "degree_freedom = n - 1\n",
    "\n",
    "# confidence interval with t-distribution\n",
    "ci_low_t, ci_upp_t = stm._tconfint_generic(mean,std_err, degree_freedom, alpha=sig_lvl, alternative=\"two-sided\")\n",
    "print(\"C.I. (t*): %.2f to %.2f. Interval size: %.2f.\" % (ci_low_t, ci_upp_t, ci_upp_t-ci_low_t))"
   ]
  },
  {
   "cell_type": "markdown",
   "id": "c1fecc40",
   "metadata": {},
   "source": [
    "### Calculate skewness and kurtosis"
   ]
  },
  {
   "cell_type": "code",
   "execution_count": 28,
   "id": "85a61044",
   "metadata": {},
   "outputs": [
    {
     "name": "stdout",
     "output_type": "stream",
     "text": [
      "Skewness: -0.28. Kurtosis: 2.49\n"
     ]
    }
   ],
   "source": [
    "skewness = st.skew(age)\n",
    "kurtosis = st.kurtosis(age, fisher =  False) # The Pearson’s definition will be used (normal 3.0).\n",
    "print(\"Skewness: %.2f. Kurtosis: %.2f\" % (skewness, kurtosis))"
   ]
  },
  {
   "cell_type": "markdown",
   "id": "4d6c26c0",
   "metadata": {},
   "source": [
    "### Calculate IQR of age"
   ]
  },
  {
   "cell_type": "code",
   "execution_count": 29,
   "id": "2e6dc7e4",
   "metadata": {},
   "outputs": [
    {
     "name": "stdout",
     "output_type": "stream",
     "text": [
      "Median: 58. IQR: 31. 25th percentile: 44. 75th percentile: 75\n"
     ]
    }
   ],
   "source": [
    "pct25 = np.percentile(age, 25)\n",
    "pct75 = np.percentile(age, 75)\n",
    "iqr = pct75 - pct25\n",
    "print(\"Median: %d. IQR: %d. 25th percentile: %d. 75th percentile: %d\" % (median, iqr, pct25, pct75))"
   ]
  },
  {
   "cell_type": "markdown",
   "id": "59f55548",
   "metadata": {},
   "source": [
    "Skewness, kurtosis, histogram suggests data are not normally distributed, we should use median instead of mean."
   ]
  },
  {
   "cell_type": "code",
   "execution_count": 30,
   "id": "df718fcf",
   "metadata": {},
   "outputs": [
    {
     "data": {
      "image/png": "[encoded data removed]",
      "text/plain": [
       "<Figure size 432x288 with 1 Axes>"
      ]
     },
     "metadata": {
      "needs_background": "light"
     },
     "output_type": "display_data"
    }
   ],
   "source": [
    "# Plot a box and whiskers plot to visualise age data\n",
    "age_df = pd.DataFrame(age)\n",
    "age_df.plot(kind='box', title='Age distribution')\n",
    "plt.show()"
   ]
  },
  {
   "cell_type": "markdown",
   "id": "f617d759",
   "metadata": {},
   "source": [
    "Median and IQR match the box and whisker plot."
   ]
  },
  {
   "cell_type": "markdown",
   "id": "ae8d19ee",
   "metadata": {},
   "source": [
    "## Inferential Statistics"
   ]
  },
  {
   "cell_type": "markdown",
   "id": "86986863",
   "metadata": {},
   "source": [
    "### Analysis: Check if mean age between males and females differs significantly"
   ]
  },
  {
   "cell_type": "markdown",
   "id": "a9f1a17c",
   "metadata": {},
   "source": [
    "As age is not normally distributed, we use the Mann-Whitney U test for unpaired samples. "
   ]
  },
  {
   "cell_type": "code",
   "execution_count": 31,
   "id": "a525f9dc",
   "metadata": {},
   "outputs": [
    {
     "name": "stdout",
     "output_type": "stream",
     "text": [
      "\n",
      " Computing t* ...\n",
      "\t t-statistic (t*): 327951.00\n",
      "\n",
      " Computing p-value ...\n",
      "\t p-value: 0.3798\n",
      "Accept the Null Hypothesis\n"
     ]
    }
   ],
   "source": [
    "# split DataFrame into two subsets: df1 for females, df2 for males\n",
    "df1 = df[df[\"sex\"] == 0]\n",
    "df2 = df[df[\"sex\"] == 1]\n",
    "\n",
    "# Turn column into numpy array\n",
    "sample1 = df1[\"age\"].dropna()\n",
    "sample1 = sample1.to_numpy()\n",
    "sample2 = df2[\"age\"].dropna()\n",
    "sample2 = sample2.to_numpy()\n",
    "\n",
    "#perform the Mann-Whitney U test\n",
    "t_stats, p_val = st.mannwhitneyu(sample1, sample2, alternative='two-sided')\n",
    "print(\"\\n Computing t* ...\")\n",
    "print(\"\\t t-statistic (t*): %.2f\" % t_stats)\n",
    "\n",
    "print(\"\\n Computing p-value ...\")\n",
    "print(\"\\t p-value: %.4f\" % p_val)\n",
    "\n",
    "if (p_val <0.05):\n",
    "    print(\"Reject the Null Hypothesis\")\n",
    "else:\n",
    "    print(\"Accept the Null Hypothesis\")"
   ]
  },
  {
   "cell_type": "markdown",
   "id": "c1790751",
   "metadata": {},
   "source": [
    "Null hypothesis: Mean age is equal between females and males\n",
    "\n",
    "Alternative hypothesis: Mean age is different between females and males \n",
    "\n",
    "Since p-value = 0.38 > 0.05, we fail to reject the null hypothesis. Mean age between males and females doesn't differ significantly."
   ]
  },
  {
   "cell_type": "code",
   "execution_count": 32,
   "id": "5a528f6b",
   "metadata": {},
   "outputs": [
    {
     "name": "stdout",
     "output_type": "stream",
     "text": [
      "Sample 1: Median: 58. IQR: 33.\n",
      "Sample 2: Median: 58. IQR: 27.\n"
     ]
    }
   ],
   "source": [
    "# Check median and IQR to confirm the inferential stats results\n",
    "\n",
    "median1 = stats.median(sample1)\n",
    "iqr1 = np.percentile(sample1, 75) - np.percentile(sample1, 25)\n",
    "\n",
    "median2 = stats.median(sample2)\n",
    "iqr2 = np.percentile(sample2, 75) - np.percentile(sample2, 25)\n",
    "\n",
    "print(\"Sample 1: Median: %d. IQR: %d.\" % (median1, iqr1))\n",
    "print(\"Sample 2: Median: %d. IQR: %d.\" % (median2, iqr2))"
   ]
  },
  {
   "cell_type": "markdown",
   "id": "229aef85",
   "metadata": {},
   "source": [
    "As a result, we can confirm that there is not siginificant difference between median age between males and females."
   ]
  },
  {
   "cell_type": "markdown",
   "id": "330ba05a",
   "metadata": {},
   "source": [
    "### Assuming age is normally distributed, we use the ttest"
   ]
  },
  {
   "cell_type": "code",
   "execution_count": 33,
   "id": "0a131377",
   "metadata": {},
   "outputs": [
    {
     "name": "stdout",
     "output_type": "stream",
     "text": [
      "t-stats: 1.03\n",
      "p-val: 0.38\n",
      "Accept the Null Hypothesis\n"
     ]
    }
   ],
   "source": [
    "sample1_mean = stats.mean(sample1)\n",
    "sample1_s = sample1.std(ddof=1)\n",
    "n1 = len(sample1)\n",
    "\n",
    "sample2_mean = stats.mean(sample2)\n",
    "sample2_s = sample2.std(ddof=1)\n",
    "n2 = len(sample2)\n",
    "\n",
    "t_stats, p_value = st.ttest_ind_from_stats(sample1_mean, sample1_s, n1, sample2_mean, sample2_s, n2, \n",
    "                        equal_var=False, alternative='two-sided')\n",
    "\n",
    "print(\"t-stats: %.2f\" % t_stats)\n",
    "print(\"p-val: %.2f\" % p_val)\n",
    "\n",
    "if (p_value <0.05):\n",
    "    print(\"Reject the Null Hypothesis\")\n",
    "else:\n",
    "    print(\"Accept the Null Hypothesis\")"
   ]
  }
 ],
 "metadata": {
  "kernelspec": {
   "display_name": "Python 3 (ipykernel)",
   "language": "python",
   "name": "python3"
  },
  "language_info": {
   "codemirror_mode": {
    "name": "ipython",
    "version": 3
   },
   "file_extension": ".py",
   "mimetype": "text/x-python",
   "name": "python",
   "nbconvert_exporter": "python",
   "pygments_lexer": "ipython3",
   "version": "3.9.7"
  }
 },
 "nbformat": 4,
 "nbformat_minor": 5
}
